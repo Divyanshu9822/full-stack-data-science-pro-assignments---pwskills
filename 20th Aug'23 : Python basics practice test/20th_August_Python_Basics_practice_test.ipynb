{
 "cells": [
  {
   "cell_type": "markdown",
   "metadata": {},
   "source": [
    "## **String Based Assignment Problem**"
   ]
  },
  {
   "cell_type": "markdown",
   "metadata": {},
   "source": [
    "### 1. Write a program to reverse a string.\n"
   ]
  },
  {
   "cell_type": "code",
   "execution_count": 8,
   "metadata": {},
   "outputs": [
    {
     "name": "stdout",
     "output_type": "stream",
     "text": [
      "The reverse of Hello, World! is !dlroW ,olleH\n"
     ]
    }
   ],
   "source": [
    "# function to reverse a string using slicling.\n",
    "def reverse_string(input_string):\n",
    "    return input_string[::-1]\n",
    "\n",
    "# example string\n",
    "input_str = \"Hello, World!\"\n",
    "\n",
    "# calling the reverse function with passing exsample string\n",
    "reversed_str = reverse_string(input_str)\n",
    "\n",
    "# display the reverse of the example string\n",
    "print(f\"The reverse of {input_str} is {reversed_str}\")  # output: \"!dlroW ,olleH\"\n"
   ]
  },
  {
   "cell_type": "markdown",
   "metadata": {},
   "source": [
    "### 2. Check if a string is a palindrome.\n"
   ]
  },
  {
   "cell_type": "code",
   "execution_count": 9,
   "metadata": {},
   "outputs": [
    {
     "name": "stdout",
     "output_type": "stream",
     "text": [
      "True\n",
      "False\n"
     ]
    }
   ],
   "source": [
    "# function to check palindrome , taking input atring as argument \n",
    "def is_palindrome(input_string):\n",
    "    cleaned_str = ''.join(input_string.split()).lower()\n",
    "    return cleaned_str == cleaned_str[::-1]\n",
    "\n",
    "# example string\n",
    "input_str1 = \"A man a plan a canal Panama\"\n",
    "\n",
    "# display result for first string\n",
    "print(is_palindrome(input_str1))  # Output: True\n",
    "\n",
    "# example string\n",
    "input_str2 = \"hello, world!\"\n",
    "\n",
    "# display result for first string\n",
    "print(is_palindrome(input_str2))  # Output: False"
   ]
  },
  {
   "cell_type": "markdown",
   "metadata": {},
   "source": [
    "### 3. Convert a string to uppercase.\n"
   ]
  },
  {
   "cell_type": "code",
   "execution_count": 11,
   "metadata": {},
   "outputs": [
    {
     "name": "stdout",
     "output_type": "stream",
     "text": [
      "Uppercase :  THIS IS LOWECASE SENTANCE.\n"
     ]
    }
   ],
   "source": [
    "# initialising a string\n",
    "string = \"this is lowecase sentance.\"\n",
    "\n",
    "# display the uppercase string using upper() method to convert all characters to uppercase\n",
    "print(\"Uppercase : \", string.upper())\n"
   ]
  },
  {
   "cell_type": "markdown",
   "metadata": {},
   "source": [
    "### 4. Convert a string to lowercase.\n"
   ]
  },
  {
   "cell_type": "code",
   "execution_count": 13,
   "metadata": {},
   "outputs": [
    {
     "name": "stdout",
     "output_type": "stream",
     "text": [
      "Lowercase :   this is uppercase sentance.\n"
     ]
    }
   ],
   "source": [
    "# initialising a string\n",
    "string = \" THIS IS UPPERCASE SENTANCE.\"\n",
    "\n",
    "# display the lowecase string using lower() method to convert all characters to lowercase\n",
    "print(\"Lowercase : \", string.lower())"
   ]
  },
  {
   "cell_type": "markdown",
   "metadata": {},
   "source": [
    "### 5. Count the number of vowels in a string.\n"
   ]
  },
  {
   "cell_type": "code",
   "execution_count": 14,
   "metadata": {},
   "outputs": [
    {
     "name": "stdout",
     "output_type": "stream",
     "text": [
      "There are 7 vowel(s) in entered string 'this is a example string.'.\n"
     ]
    }
   ],
   "source": [
    "# taking string input from user to count vowels\n",
    "input_string = 'this is a example string.'\n",
    "\n",
    "# vowles string (characters needs to get counted from input string)\n",
    "vowels_string = \"aeiou\"\n",
    "\n",
    "# variable to store the count of vowles occured in user entered string\n",
    "count = 0\n",
    "\n",
    "for chr in input_string:\n",
    "    chr_lowercase = chr.lower()\n",
    "\n",
    "    if chr_lowercase in vowels_string:\n",
    "        count = count + 1\n",
    "\n",
    "# display the vowels count\n",
    "print(f\"There are {count} vowel(s) in entered string '{input_string}'.\")"
   ]
  },
  {
   "cell_type": "markdown",
   "metadata": {},
   "source": [
    "### 6. Count the number of consonants in a string.\n"
   ]
  },
  {
   "cell_type": "code",
   "execution_count": 19,
   "metadata": {},
   "outputs": [
    {
     "name": "stdout",
     "output_type": "stream",
     "text": [
      "There are 13 consonant(s) in entered string 'this is a example string'.\n"
     ]
    }
   ],
   "source": [
    "# taking string input from user to count consonants\n",
    "input_string = 'this is a example string'\n",
    "\n",
    "# removing the space characters from input string\n",
    "cleaned_str = ''.join(input_string.split()).lower()\n",
    "\n",
    "# vowles string (characters needs to get counted from input string)\n",
    "vowels_string = \"aeiou\"\n",
    "\n",
    "# variable to store the count of consonants occured in user entered string\n",
    "count = 0\n",
    "\n",
    "for chr in cleaned_str:\n",
    "\n",
    "    # using not operator so that we can count every character except those which occurs in vowels_string. Doing this will count all the consonants occured in string\n",
    "    if chr not in vowels_string:\n",
    "        count = count + 1\n",
    "\n",
    "# display the consonants count\n",
    "print(f\"There are {count} consonant(s) in entered string '{input_string}'.\")"
   ]
  },
  {
   "cell_type": "markdown",
   "metadata": {},
   "source": [
    "### 7. Remove all whitespaces from a string.\n"
   ]
  },
  {
   "cell_type": "code",
   "execution_count": 20,
   "metadata": {},
   "outputs": [
    {
     "name": "stdout",
     "output_type": "stream",
     "text": [
      "String after removing white spaces :  DivyanshuPrasadislearningdatascience.\n"
     ]
    }
   ],
   "source": [
    "# initialise a string\n",
    "input_string = \"Divyanshu Prasad is learning data science.\"\n",
    "\n",
    "# swapping the space in string with empty string\n",
    "removed_spaces = input_string.replace(\" \", \"\")\n",
    "\n",
    "# display the result string\n",
    "print(\"String after removing white spaces : \",removed_spaces)"
   ]
  },
  {
   "cell_type": "markdown",
   "metadata": {},
   "source": [
    "### 8. Find the length of a string without using the `len()` function.\n"
   ]
  },
  {
   "cell_type": "code",
   "execution_count": 21,
   "metadata": {},
   "outputs": [
    {
     "name": "stdout",
     "output_type": "stream",
     "text": [
      "Length of input string is : 15\n"
     ]
    }
   ],
   "source": [
    "# example string\n",
    "input_string = \"checking length\"\n",
    "\n",
    "# variable to store the length of the input string\n",
    "length = 0\n",
    "\n",
    "# counting number of chracters occured in string which in total is length of string\n",
    "for char in input_string:\n",
    "    length += 1\n",
    "\n",
    "print(\"Length of input string is :\", length)"
   ]
  },
  {
   "cell_type": "markdown",
   "metadata": {},
   "source": [
    "### 9. Check if a string contains a specific word.\n"
   ]
  },
  {
   "cell_type": "code",
   "execution_count": 22,
   "metadata": {},
   "outputs": [
    {
     "name": "stdout",
     "output_type": "stream",
     "text": [
      "The string contains the word 'python'.\n"
     ]
    }
   ],
   "source": [
    "# taking user input for string and the specific word\n",
    "input_string = input(\"Enter a string: \")\n",
    "specific_word = input(\"Enter the specific word to check for: \")\n",
    "\n",
    "# checking for the specific word in the string using 'in' keyword\n",
    "if specific_word in input_string:\n",
    "    # display message if word is present\n",
    "    print(f\"The string contains the word '{specific_word}'.\")\n",
    "else:\n",
    "    # display message if word is not present\n",
    "    print(f\"The string does not contain the word '{specific_word}'.\")"
   ]
  },
  {
   "cell_type": "markdown",
   "metadata": {},
   "source": [
    "### 10. Replace a word in a string with another word.\n"
   ]
  },
  {
   "cell_type": "code",
   "execution_count": 23,
   "metadata": {},
   "outputs": [
    {
     "name": "stdout",
     "output_type": "stream",
     "text": [
      "Modified string: wello world\n"
     ]
    }
   ],
   "source": [
    "# taking string from user\n",
    "input_string = input(\"Enter a sentence: \")\n",
    "\n",
    "# input for new word and word to be replaced\n",
    "old_word = input(\"Enter the word to be replaced: \")\n",
    "new_word = input(\"Enter the new word: \")\n",
    "\n",
    "# replacing the old word with the new word using string.replace() method\n",
    "answer_string = input_string.replace(old_word, new_word)\n",
    "\n",
    "# display the modified string\n",
    "print(\"Modified string:\", answer_string)"
   ]
  },
  {
   "cell_type": "markdown",
   "metadata": {},
   "source": [
    "### 11. Count the occurrences of a word in a string.\n"
   ]
  },
  {
   "cell_type": "code",
   "execution_count": 24,
   "metadata": {},
   "outputs": [
    {
     "name": "stdout",
     "output_type": "stream",
     "text": [
      "The word 'text' appears 3 times in the text.\n"
     ]
    }
   ],
   "source": [
    "# sample text\n",
    "text = \"This is a sample text. This text contains the word 'text' multiple times.\"\n",
    "\n",
    "# word to be counted\n",
    "word_to_count = \"text\"\n",
    "\n",
    "# using count function to get the count of words\n",
    "count = text.count(word_to_count)\n",
    "\n",
    "# display the result with a message\n",
    "print(f\"The word '{word_to_count}' appears {count} times in the text.\")\n"
   ]
  },
  {
   "cell_type": "markdown",
   "metadata": {},
   "source": [
    "### 12. Find the first occurrence of a word in a string.\n"
   ]
  },
  {
   "cell_type": "code",
   "execution_count": 25,
   "metadata": {},
   "outputs": [
    {
     "name": "stdout",
     "output_type": "stream",
     "text": [
      "The first occurrence of 'text' starts at index 17.\n"
     ]
    }
   ],
   "source": [
    "# sample text\n",
    "text = \"This is a sample text. This text contains the word 'text' multiple times.\"\n",
    "\n",
    "# word to be looked for first occurance\n",
    "word_to_count = \"text\"\n",
    "\n",
    "# find() function to get first occurance of word in a text\n",
    "first_occurrence = text.find(word_to_count)\n",
    "\n",
    "# display the index of the word found with a message\n",
    "print(f\"The first occurrence of '{word_to_count}' starts at index {first_occurrence}.\")"
   ]
  },
  {
   "cell_type": "markdown",
   "metadata": {},
   "source": [
    "### 13. Find the last occurrence of a word in a string.\n"
   ]
  },
  {
   "cell_type": "code",
   "execution_count": 26,
   "metadata": {},
   "outputs": [
    {
     "name": "stdout",
     "output_type": "stream",
     "text": [
      "The last occurrence of 'text' starts at index 52.\n"
     ]
    }
   ],
   "source": [
    "# sample text\n",
    "text = \"This is a sample text. This text contains the word 'text' multiple times.\"\n",
    "\n",
    "# word to be looked for last occurance\n",
    "word_to_count = \"text\"\n",
    "\n",
    "# rfind() function to get last occurance of word in a text\n",
    "last_occurrence = text.rfind(word_to_count) \n",
    "\n",
    "# display the index of the word found with a message\n",
    "print(f\"The last occurrence of '{word_to_count}' starts at index {last_occurrence}.\") "
   ]
  },
  {
   "cell_type": "markdown",
   "metadata": {},
   "source": [
    "### 14. Split a string into a list of words.\n"
   ]
  },
  {
   "cell_type": "code",
   "execution_count": 29,
   "metadata": {},
   "outputs": [
    {
     "name": "stdout",
     "output_type": "stream",
     "text": [
      "The list of words in the text: ['this', 'is', 'a', 'dummy', 'sentance']\n"
     ]
    }
   ],
   "source": [
    "# example text\n",
    "sentance = 'this is a dummy sentance'\n",
    "\n",
    "# splitting the words of sentance by spaces\n",
    "words = sentance.split() \n",
    "\n",
    "# display the list of words \n",
    "print(\"The list of words in the text:\", words) "
   ]
  },
  {
   "cell_type": "markdown",
   "metadata": {},
   "source": [
    "### 15. Join a list of words into a string.\n"
   ]
  },
  {
   "cell_type": "code",
   "execution_count": 30,
   "metadata": {},
   "outputs": [
    {
     "name": "stdout",
     "output_type": "stream",
     "text": [
      "The joined string: this is a dummy sentance\n"
     ]
    }
   ],
   "source": [
    "# joining the separated words to form a sentance again using .join() \n",
    "joined_text = \" \".join(words)\n",
    "\n",
    "# display the sentance\n",
    "print(\"The joined string:\", joined_text)"
   ]
  },
  {
   "cell_type": "markdown",
   "metadata": {},
   "source": [
    "### 16. Convert a string where words are separated by spaces to one where words are separated by underscores.\n"
   ]
  },
  {
   "cell_type": "code",
   "execution_count": 31,
   "metadata": {},
   "outputs": [
    {
     "name": "stdout",
     "output_type": "stream",
     "text": [
      "Hello_World\n"
     ]
    }
   ],
   "source": [
    "input_str = \"Hello World\"\n",
    "\n",
    "# using replace() to get _ at place of space\n",
    "result_16 = input_str.replace(' ', '_')\n",
    "\n",
    "# display the result\n",
    "print(result_16)"
   ]
  },
  {
   "cell_type": "markdown",
   "metadata": {},
   "source": [
    "### 17. Check if a string starts with a specific word or phrase.\n"
   ]
  },
  {
   "cell_type": "code",
   "execution_count": 32,
   "metadata": {},
   "outputs": [
    {
     "name": "stdout",
     "output_type": "stream",
     "text": [
      "True\n"
     ]
    }
   ],
   "source": [
    "input_str = \"Hello World\"\n",
    "\n",
    "# word to check as prefix in above string or not\n",
    "word_to_check = \"Hello\"\n",
    "\n",
    "# checking if the text is starting with the word or not\n",
    "result_17 = input_str.startswith(word_to_check)\n",
    "\n",
    "# display result\n",
    "print(result_17)"
   ]
  },
  {
   "cell_type": "markdown",
   "metadata": {},
   "source": [
    "### 18. Check if a string ends with a specific word or phrase.\n"
   ]
  },
  {
   "cell_type": "code",
   "execution_count": 34,
   "metadata": {},
   "outputs": [
    {
     "name": "stdout",
     "output_type": "stream",
     "text": [
      "True\n"
     ]
    }
   ],
   "source": [
    "input_str = \"Hello World\"\n",
    "\n",
    "# word to check as suffix in above string or not\n",
    "word_to_check = \"World\"\n",
    "\n",
    "# checking if the text is ending with the word or not\n",
    "result_18 = input_str.endswith(word_to_check)\n",
    "\n",
    "# display the result\n",
    "print(result_18)"
   ]
  },
  {
   "cell_type": "markdown",
   "metadata": {},
   "source": [
    "### 19. Convert a string to title case (e.g., \"hello world\" to \"Hello World\").\n"
   ]
  },
  {
   "cell_type": "code",
   "execution_count": 35,
   "metadata": {},
   "outputs": [
    {
     "name": "stdout",
     "output_type": "stream",
     "text": [
      "Hello World\n"
     ]
    }
   ],
   "source": [
    "input_str = \"hello world\"\n",
    "\n",
    "# .title() will capitalize the words in sentance \n",
    "result_19 = input_str.title()\n",
    "\n",
    "# display the updated text\n",
    "print(result_19)"
   ]
  },
  {
   "cell_type": "markdown",
   "metadata": {},
   "source": [
    "### 20. Find the longest word in a string.\n"
   ]
  },
  {
   "cell_type": "code",
   "execution_count": 36,
   "metadata": {},
   "outputs": [
    {
     "name": "stdout",
     "output_type": "stream",
     "text": [
      "sentence\n"
     ]
    }
   ],
   "source": [
    "# example string\n",
    "input_str = \"This is a sample sentence with some long words\"\n",
    "\n",
    "# getting every word from sentance to a list using split\n",
    "words = input_str.split()\n",
    "\n",
    "# max function gets the max value from passed arguments, using key = len will check the max length word from the list\n",
    "result_20 = max(words, key=len)\n",
    "\n",
    "# display the result\n",
    "print(result_20)"
   ]
  },
  {
   "cell_type": "markdown",
   "metadata": {},
   "source": [
    "### 21. Find the shortest word in a string.\n"
   ]
  },
  {
   "cell_type": "code",
   "execution_count": 37,
   "metadata": {},
   "outputs": [
    {
     "name": "stdout",
     "output_type": "stream",
     "text": [
      "a\n"
     ]
    }
   ],
   "source": [
    "# example string\n",
    "input_str = \"This is a sample sentence with some short words\"\n",
    "\n",
    "# getting every word from sentance to a list using split\n",
    "words = input_str.split()\n",
    "\n",
    "# max function gets the min value from passed arguments, using key = len will check the min length word from the list\n",
    "result_21 = min(words, key=len)\n",
    "\n",
    "# display the result\n",
    "print(result_21)"
   ]
  },
  {
   "cell_type": "markdown",
   "metadata": {},
   "source": [
    "### 22. Reverse the order of words in a string.\n"
   ]
  },
  {
   "cell_type": "code",
   "execution_count": 38,
   "metadata": {},
   "outputs": [
    {
     "name": "stdout",
     "output_type": "stream",
     "text": [
      "World Hello\n"
     ]
    }
   ],
   "source": [
    "input_str = \"Hello World\"\n",
    "\n",
    "# splitting the sentence to an array of words \n",
    "words = input_str.split()\n",
    "\n",
    "# now reversing the list of words and joining them in new string variable\n",
    "result_22 = ' '.join(reversed(words))\n",
    "\n",
    "# display the result\n",
    "print(result_22)"
   ]
  },
  {
   "cell_type": "markdown",
   "metadata": {},
   "source": [
    "### 23. Check if a string is alphanumeric.\n"
   ]
  },
  {
   "cell_type": "code",
   "execution_count": 39,
   "metadata": {},
   "outputs": [
    {
     "name": "stdout",
     "output_type": "stream",
     "text": [
      "True\n"
     ]
    }
   ],
   "source": [
    "input_str = \"Hello123\"\n",
    "\n",
    "# below line will check if the sentance is a mix of characters and numbers \n",
    "result_23 = input_str.isalnum()\n",
    "\n",
    "# display true or false as per the status of word\n",
    "print(result_23)"
   ]
  },
  {
   "cell_type": "markdown",
   "metadata": {},
   "source": [
    "### 24. Extract all digits from a string.\n"
   ]
  },
  {
   "cell_type": "code",
   "execution_count": 40,
   "metadata": {},
   "outputs": [
    {
     "name": "stdout",
     "output_type": "stream",
     "text": [
      "123\n"
     ]
    }
   ],
   "source": [
    "input_str = \"Hello123\"\n",
    "\n",
    "# check if any character in a word is digit and filter them out and join in new string\n",
    "result_24 = ''.join(filter(str.isdigit, input_str))\n",
    "\n",
    "# display the filtered numbers from the alphanumeric word\n",
    "print(result_24)"
   ]
  },
  {
   "cell_type": "markdown",
   "metadata": {},
   "source": [
    "### 25. Extract all alphabets from a string.\n"
   ]
  },
  {
   "cell_type": "code",
   "execution_count": 41,
   "metadata": {},
   "outputs": [
    {
     "name": "stdout",
     "output_type": "stream",
     "text": [
      "Hello\n"
     ]
    }
   ],
   "source": [
    "input_str = \"Hello123\"\n",
    "\n",
    "# check if any character in a word is alphabet and filter them out and join in new string\n",
    "result_25 = ''.join(filter(str.isalpha, input_str))\n",
    "\n",
    "# display the filtered numbers from the alphanumeric word\n",
    "print(result_25)"
   ]
  },
  {
   "cell_type": "markdown",
   "metadata": {},
   "source": [
    "### 26. Count the number of uppercase letters in a string.\n"
   ]
  },
  {
   "cell_type": "markdown",
   "metadata": {},
   "source": [
    "### 27. Count the number of lowercase letters in a string.\n"
   ]
  },
  {
   "cell_type": "markdown",
   "metadata": {},
   "source": [
    "### 28. Swap the case of each character in a string.\n"
   ]
  },
  {
   "cell_type": "markdown",
   "metadata": {},
   "source": [
    "### 29. Remove a specific word from a string.\n"
   ]
  },
  {
   "cell_type": "markdown",
   "metadata": {},
   "source": [
    "### 30. Check if a string is a valid email address.\n"
   ]
  },
  {
   "cell_type": "markdown",
   "metadata": {},
   "source": [
    "### 31. Extract the username from an email address string.\n"
   ]
  },
  {
   "cell_type": "markdown",
   "metadata": {},
   "source": [
    "### 32. Extract the domain name from an email address string.\n"
   ]
  },
  {
   "cell_type": "markdown",
   "metadata": {},
   "source": [
    "### 33. Replace multiple spaces in a string with a single space.\n"
   ]
  },
  {
   "cell_type": "markdown",
   "metadata": {},
   "source": [
    "### 34. Check if a string is a valid URL.\n"
   ]
  },
  {
   "cell_type": "markdown",
   "metadata": {},
   "source": [
    "### 35. Extract the protocol (http or https) from a URL string.\n"
   ]
  },
  {
   "cell_type": "markdown",
   "metadata": {},
   "source": [
    "### 36. Find the frequency of each character in a string.\n"
   ]
  },
  {
   "cell_type": "markdown",
   "metadata": {},
   "source": [
    "### 37. Remove all punctuation from a string.\n"
   ]
  },
  {
   "cell_type": "markdown",
   "metadata": {},
   "source": [
    "### 38. Check if a string contains only digits.\n"
   ]
  },
  {
   "cell_type": "markdown",
   "metadata": {},
   "source": [
    "### 39. Check if a string contains only alphabets.\n"
   ]
  },
  {
   "cell_type": "markdown",
   "metadata": {},
   "source": [
    "### 40. Convert a string to a list of characters.\n"
   ]
  },
  {
   "cell_type": "markdown",
   "metadata": {},
   "source": [
    "### 41. Check if two strings are anagrams.\n"
   ]
  },
  {
   "cell_type": "markdown",
   "metadata": {},
   "source": [
    "### 42. Encode a string using a Caesar cipher.\n"
   ]
  },
  {
   "cell_type": "markdown",
   "metadata": {},
   "source": [
    "### 43. Decode a Caesar cipher encoded string.\n"
   ]
  },
  {
   "cell_type": "markdown",
   "metadata": {},
   "source": [
    "### 44. Find the most frequent word in a string.\n"
   ]
  },
  {
   "cell_type": "markdown",
   "metadata": {},
   "source": [
    "### 45. Find all unique words in a string.\n"
   ]
  },
  {
   "cell_type": "markdown",
   "metadata": {},
   "source": [
    "### 46. Count the number of syllables in a string.\n"
   ]
  },
  {
   "cell_type": "markdown",
   "metadata": {},
   "source": [
    "### 47. Check if a string contains any special characters.\n"
   ]
  },
  {
   "cell_type": "markdown",
   "metadata": {},
   "source": [
    "### 48. Remove the nth word from a string.\n"
   ]
  },
  {
   "cell_type": "markdown",
   "metadata": {},
   "source": [
    "### 49. Insert a word at the nth position in a string.\n"
   ]
  },
  {
   "cell_type": "markdown",
   "metadata": {},
   "source": [
    "### 50. Convert a CSV string to a list of lists.\n"
   ]
  }
 ],
 "metadata": {
  "kernelspec": {
   "display_name": "Python 3",
   "language": "python",
   "name": "python3"
  },
  "language_info": {
   "codemirror_mode": {
    "name": "ipython",
    "version": 3
   },
   "file_extension": ".py",
   "mimetype": "text/x-python",
   "name": "python",
   "nbconvert_exporter": "python",
   "pygments_lexer": "ipython3",
   "version": "3.11.3"
  },
  "orig_nbformat": 4
 },
 "nbformat": 4,
 "nbformat_minor": 2
}
